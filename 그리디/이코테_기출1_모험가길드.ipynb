{
 "metadata": {
  "language_info": {
   "codemirror_mode": {
    "name": "ipython",
    "version": 3
   },
   "file_extension": ".py",
   "mimetype": "text/x-python",
   "name": "python",
   "nbconvert_exporter": "python",
   "pygments_lexer": "ipython3",
   "version": "3.7.4-final"
  },
  "orig_nbformat": 2,
  "kernelspec": {
   "name": "python3",
   "display_name": "Python 3",
   "language": "python"
  }
 },
 "nbformat": 4,
 "nbformat_minor": 2,
 "cells": [
  {
   "source": [
    "한 마을에 모험가가 N명 있다. 모험가 길드에서는 N명의 모험가를 대상으로 '공포도'를 측정했는데, '공포도'가 높은 모험가는 쉽게 공포를 느껴 위험 상황에서 제대로 대처할 능력이 떨어진다. 모험가 길드장은 모험가 그룹을 안전하게 구성하고자 공포도가 X인 모험가는 반드시 X명 이상으로 구성한 모험가 그룹에 참여해야 여행을 떠날 수 있게 규정했다. 최대 몇 개의 모험가 그룹을 만들 수 있을까?  \n",
    "\n",
    "**조건**  \n",
    "몇 명의 모험가는 마을에 그대로 남아 있어도 되기 때문에, 모든 모험가를 특정한 그룹에 넣을 필요는 없다."
   ],
   "cell_type": "markdown",
   "metadata": {}
  },
  {
   "cell_type": "code",
   "execution_count": 32,
   "metadata": {},
   "outputs": [],
   "source": [
    "n = int(input())\n",
    "fear = list(map(int, input().split()))"
   ]
  },
  {
   "cell_type": "code",
   "execution_count": 33,
   "metadata": {},
   "outputs": [
    {
     "output_type": "execute_result",
     "data": {
      "text/plain": [
       "[1, 2, 2, 2, 3, 3]"
      ]
     },
     "metadata": {},
     "execution_count": 33
    }
   ],
   "source": [
    "#공포도가 낮은 순서대로 정렬\n",
    "\n",
    "fear = sorted(fear)\n",
    "fear"
   ]
  },
  {
   "cell_type": "code",
   "execution_count": 34,
   "metadata": {},
   "outputs": [
    {
     "output_type": "execute_result",
     "data": {
      "text/plain": [
       "3"
      ]
     },
     "metadata": {},
     "execution_count": 34
    }
   ],
   "source": [
    "member = 0  #현재 그룹의 인원\n",
    "group = 0  #생성된 그룹 수\n",
    "\n",
    "for i in fear:\n",
    "    member += 1  #인원이 한명씩 증가\n",
    "    if member == i:  #인원 수와 공포도가 같을 경우 그룹 생성\n",
    "        group += 1\n",
    "        member = 0   #인원 수 초기화\n",
    "\n",
    "group\n"
   ]
  }
 ]
}