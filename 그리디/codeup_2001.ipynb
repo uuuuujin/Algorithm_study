{
 "metadata": {
  "language_info": {
   "codemirror_mode": {
    "name": "ipython",
    "version": 3
   },
   "file_extension": ".py",
   "mimetype": "text/x-python",
   "name": "python",
   "nbconvert_exporter": "python",
   "pygments_lexer": "ipython3",
   "version": "3.7.4-final"
  },
  "orig_nbformat": 2,
  "kernelspec": {
   "name": "python3",
   "display_name": "Python 3",
   "language": "python"
  }
 },
 "nbformat": 4,
 "nbformat_minor": 2,
 "cells": [
  {
   "source": [
    "# codeup_2001 : 최소대금\n",
    "파파 파스타 가게는 점심 추천 파스타와 생과일 쥬스 세트 메뉴가 인기가 좋다.\n",
    "\n",
    "이 세트 메뉴를 주문하면 그 날의 3 종류의 파스타와 2 종류의 생과일 쥬스에서 하나씩 선택한다.\n",
    "\n",
    "파스타와 생과일 쥬스의 가격 합계에서 10%를 더한 금액이 대금된다.\n",
    "\n",
    "어느 날의 파스타와 생과일 쥬스의 가격이 주어 졌을 때, 그 날 세트 메뉴의 대금의 최소값을 구하는 프로그램을 작성하라."
   ],
   "cell_type": "markdown",
   "metadata": {}
  },
  {
   "cell_type": "code",
   "execution_count": 5,
   "metadata": {},
   "outputs": [
    {
     "output_type": "stream",
     "name": "stdout",
     "text": [
      "987.8\n"
     ]
    }
   ],
   "source": [
    "pasta1 = input()\n",
    "pasta2 = input()\n",
    "pasta3 = input()\n",
    "juice1 = input()\n",
    "juice2 = input()\n",
    "\n",
    "\n",
    "pasta = [pasta1, pasta2, pasta3]\n",
    "pasta = [int(i) for i in pasta]\n",
    "juice = [juice1, juice2]\n",
    "juice = [int(i) for i in juice]\n",
    "\n",
    "set_price = []\n",
    "\n",
    "for i in pasta:\n",
    "    for j in juice:\n",
    "       set_price.append(round((i+j)*1.1, 1))\n",
    "\n",
    "print(min(set_price))"
   ]
  }
 ]
}