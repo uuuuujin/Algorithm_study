{
 "metadata": {
  "language_info": {
   "codemirror_mode": {
    "name": "ipython",
    "version": 3
   },
   "file_extension": ".py",
   "mimetype": "text/x-python",
   "name": "python",
   "nbconvert_exporter": "python",
   "pygments_lexer": "ipython3",
   "version": "3.7.4-final"
  },
  "orig_nbformat": 2,
  "kernelspec": {
   "name": "python3",
   "display_name": "Python 3",
   "language": "python"
  }
 },
 "nbformat": 4,
 "nbformat_minor": 2,
 "cells": [
  {
   "source": [
    "# 기출2 - 곱하기 혹은 더하기\n",
    "\n",
    "각 자리가 숫자(0~9)로만 이루어진 문자열 S가 주어졌을 때, 왼쪽부터 오른쪽으로 하나씩 모든 숫자를 확인하며 숫자 사이에 'X' 혹은 '+'연산자를 넣어 결과적으로 만들어질 수 있는 가장 큰 수를 구하는 프로그램. 모든 연산자는 왼쪽에서부터 순서대로 이루어진다고 가정."
   ],
   "cell_type": "markdown",
   "metadata": {}
  },
  {
   "source": [
    "## 내 풀이\n",
    "\n",
    "처음에는 현재 계산된 값이나 계산할 값이 0일 경우에만 더해준다고 생각을 하고 코드를 짰다.  \n",
    "그런데 123을 넣어보니까 9가 아니고 6이 나오길래 (다 곱해버려서) 1일 경우에도 더해줘야한다는걸 깨닫고 코드변경함."
   ],
   "cell_type": "markdown",
   "metadata": {}
  },
  {
   "cell_type": "code",
   "execution_count": 18,
   "metadata": {},
   "outputs": [
    {
     "output_type": "stream",
     "name": "stdout",
     "text": [
      "576\n"
     ]
    }
   ],
   "source": [
    "s = input()\n",
    "\n",
    "cal = int(s[0]) #문자열의 첫번째 값을 기준으로 삼음\n",
    "\n",
    "for i in range(1,len(s)):\n",
    "    if ((int(s[i]) <= 1)| (cal <= 1)):  #계산할 값이 1이하일 경우 or 현재 계산된 값이 1이하일 경우 더해줌\n",
    "        cal += int(s[i])\n",
    "    else:\n",
    "        cal *= int(s[i])                #그 외의 경우에는 다 곱함\n",
    "\n",
    "print(cal)\n"
   ]
  }
 ]
}