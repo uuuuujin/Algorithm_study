{
 "metadata": {
  "language_info": {
   "codemirror_mode": {
    "name": "ipython",
    "version": 3
   },
   "file_extension": ".py",
   "mimetype": "text/x-python",
   "name": "python",
   "nbconvert_exporter": "python",
   "pygments_lexer": "ipython3",
   "version": "3.7.4-final"
  },
  "orig_nbformat": 2,
  "kernelspec": {
   "name": "python3",
   "display_name": "Python 3",
   "language": "python"
  }
 },
 "nbformat": 4,
 "nbformat_minor": 2,
 "cells": [
  {
   "source": [
    "## 실전문제1 - 동빈이의 큰 수의 법칙\n",
    "\n",
    "다양한 수로 이루어진 배열이 있을 때 주어진 수들을 M번 더하여 가장 큰 수를 만드는 법칙이다.  \n",
    "단, 배열의 특정한 인덱스에 해당하는 수가 연속해서 K번을 초과하여 더해질 수 없으며  \n",
    "서로 다른 인덱스에 해당하는 수가 같은 경우에는 서로 다른 것으로 가정.\n",
    "\n",
    "예1) 2,4,5,4,6으로 이루어진 배열이 있고 M=8, K=3이라고 가정.  \n",
    "결과1) 6+6+6+5+6+6+6+5 = 46  \n",
    "\n",
    "예2) 3,4,3,4,3으로 이루어진 배열이 있고 M=7, K=2라고 가정.  \n",
    "결과2) 4+4+4+4+4+4+4 = 28 \n",
    "\n",
    "\n",
    "배열의 크기 N, 숫자가 더해지는 횟수 M, K가 주어질 때 동빈이의 큰 수의 법칙에 따른 결과를 출력하라.\n",
    "\n"
   ],
   "cell_type": "markdown",
   "metadata": {}
  },
  {
   "source": [
    "### 내 풀이\n",
    "\n",
    "참 무식하게도 풀었다.. (심지어 틀림ㅋㅋㅋㅋ)  \n",
    "K+1이 M으로 나누어 떨어지지 않는 경우는 생각도 않고 무조건 가장 큰값에 K 곱한 값을 더해버렸다 ㅜㅜ  \n",
    "그리고 count변수를 만들어서 m보다 작을 때까지 반복문 돌리려 했는데 이렇게 하면 내가 count에 k를 더해버리는 코드랑 안맞음,,,,\n",
    "\n",
    "\n",
    "\n",
    "결론) 5 8 3, 2 4 5 4 6 대입하면 답 나오지만 그 외에는 안 풀림 --> 난장판으로 풀음\n"
   ],
   "cell_type": "markdown",
   "metadata": {}
  },
  {
   "cell_type": "code",
   "execution_count": 29,
   "metadata": {},
   "outputs": [
    {
     "output_type": "stream",
     "name": "stdout",
     "text": [
      "0 0\n0 0\n0 0\n0 0\n3 18\n3 18\n4 23\n4 23\n4 23\n4 23\n4 23\n4 23\n7 41\n7 41\n8 46\n8 46\n46\n"
     ]
    }
   ],
   "source": [
    "n, m, k = map(int, input().split())\n",
    "arr = list(map(int, input().split()))\n",
    "\n",
    "total_sum = 0\n",
    "count = 0\n",
    "max_num = 0\n",
    "arr2 = [] #배열에서 가장 큰 수를 k번 더한 후, 가장 큰 수를 제외한 배열을 새로 만들어서 다시 값 비교\n",
    "\n",
    "while (count<m):\n",
    "    arr2 = []\n",
    "    for i in range(len(arr)): \n",
    "        arr2.append(arr[i])\n",
    "        if arr[i] == max(arr):\n",
    "            total_sum += arr[i]*k\n",
    "            count += k\n",
    "            max_num = arr[i]\n",
    "            arr2.pop(i)\n",
    "            break\n",
    "        print(count,total_sum)\n",
    "\n",
    "    for j in range(len(arr2)):\n",
    "        if arr2[j] == max_num:\n",
    "            total_sum += arr2[j]*k\n",
    "            count += k\n",
    "        elif arr2[j] == max(arr2):\n",
    "            total_sum += arr2[j]\n",
    "            count += 1\n",
    "        print(count, total_sum)\n",
    "\n",
    "print(total_sum)   \n",
    "    "
   ]
  },
  {
   "source": [
    "#### 풀이 보고 다시 해보기\n",
    "\n",
    "if m==0:   \n",
    "    break\n",
    "\n",
    "위 구문의 위치를 요리조리 바꿔서 해봤는데 결국 해설에 있는대로 밖에 안된다..."
   ],
   "cell_type": "markdown",
   "metadata": {}
  },
  {
   "cell_type": "code",
   "execution_count": 28,
   "metadata": {},
   "outputs": [
    {
     "output_type": "stream",
     "name": "stdout",
     "text": [
      "46\n"
     ]
    }
   ],
   "source": [
    "n, m, k = map(int, input().split())\n",
    "arr = list(map(int, input().split()))\n",
    "\n",
    "arr.sort()\n",
    "first = arr[n-1]\n",
    "second = arr[n-2]\n",
    "total_sum = 0\n",
    "\n",
    "while (True):\n",
    "    for _ in range(k):\n",
    "        if m == 0:\n",
    "            break\n",
    "        total_sum += first\n",
    "        m-=1\n",
    "        \n",
    "    if m == 0:\n",
    "        break\n",
    "    total_sum += second\n",
    "    m-=1\n",
    "    \n",
    "\n",
    "print(total_sum)"
   ]
  },
  {
   "source": [
    "### 문제 해설\n",
    "\n",
    "일단 입력값 중에서 가장 큰 수와 두 번째로 큰 수만 저장.  \n",
    "연속으로 더할 수 있는 횟수는 최대 K번이므로 '가장 큰 수를 K번 더하고 두 번째로 큰 수를 한 번 더하는 연산'을 반복."
   ],
   "cell_type": "markdown",
   "metadata": {}
  },
  {
   "cell_type": "code",
   "execution_count": 22,
   "metadata": {},
   "outputs": [
    {
     "output_type": "stream",
     "name": "stdout",
     "text": [
      "28\n"
     ]
    }
   ],
   "source": [
    "n, m, k = map(int, input().split())\n",
    "data = list(map(int, input().split()))\n",
    "\n",
    "data.sort() #입력받은 수 정렬\n",
    "first = data[n-1] #가장 큰 수 \n",
    "second = data[n-2] #가장 작은 수\n",
    "\n",
    "result = 0\n",
    "\n",
    "while True:\n",
    "    for i in range(k): #가장 큰 수를 K번 더하기\n",
    "        if m==0: #m이 0이라면 반복문 탈출\n",
    "            break\n",
    "        result += first\n",
    "        m -=1 #더할 때마다 1씩 감소\n",
    "    \n",
    "    if m == 0: #m이 0이면 반복문 탙출\n",
    "        break\n",
    "    \n",
    "    result += second #두 번째로 큰 수를 한 번 더하기\n",
    "    m -= 1 #더할 때마다 1씩 감소\n",
    "\n",
    "print(result)"
   ]
  },
  {
   "source": [
    "#### 수열을 이용한 문제 풀이\n",
    "\n",
    "가장 큰 수와 두 번째로 큰 수가 더해질 때 특정한 수열 형태로 일정하게 반복해서 더해지는 특성이 있다.  \n",
    "- 반복되는 수열의 길이 : K+1\n",
    "- 수열이 반복되는 횟수 : M // (K+1)  \n",
    "(M // (K+1)) * K --> 가장 큰 수가 등장하는 횟수이지만 M이 K+1로 나누어 떨어지지 않는 경우도 고려해야 하므로\n",
    "\n",
    "**int(M / (K+1)) * K + M % (K+1)** 가 가장 큰 수가 더해지는 횟수가 된다."
   ],
   "cell_type": "markdown",
   "metadata": {}
  },
  {
   "cell_type": "code",
   "execution_count": 13,
   "metadata": {},
   "outputs": [
    {
     "output_type": "stream",
     "name": "stdout",
     "text": [
      "46\n"
     ]
    }
   ],
   "source": [
    "n, m, k = map(int, input().split())\n",
    "data = list(map(int, input().split()))\n",
    "\n",
    "data.sort() #입력받은 수 정렬\n",
    "first = data[n-1] #가장 큰 수 \n",
    "second = data[n-2] #가장 작은 수\n",
    "\n",
    "#가장 큰 수가 더해지는 횟수 계산\n",
    "count = int(m / (k+1) * k)\n",
    "count += m%(k+1)\n",
    "\n",
    "result = 0\n",
    "result += count * first #가장 큰 수 더하기\n",
    "result += (m-count) * second #두 번째로 큰 수 더하기\n",
    "\n",
    "print(result)"
   ]
  },
  {
   "source": [
    "## 실전문제2 - 숫자 카드 게임\n",
    "\n",
    "숫자 카드 게임은 여러 개의 숫자 카드 중에서 가장 높은 숫자가 쓰인 카드 한 장을 뽑는 게임이다.  \n",
    "\n",
    "**게임 룰**    \n",
    "1. 숫자가 쓰인 카드들이 N*M 형태로 놓여 있다. N:행 개수, M:열 개수  \n",
    "2. 먼저 뽑고자 하는 카드가 포함되어 있는 행을 선택한다.  \n",
    "3. 그 다음 선택된 행에 포함된 카드들 중 가장 숫자가 낮은 카드를 뽑아야 한다.  \n",
    "4. 따라서 처음에 카드를 골라낼 행을 선택할 때, 이후에 해당 행에서 가장 숫자가 낮은 카드를 뽑을 것을 고려하여 최종적으로 가장 높은 숫자의 카드를 뽑을 수 있도록 전략을 세워야 한다.\n",
    "\n"
   ],
   "cell_type": "markdown",
   "metadata": {}
  }
 ]
}