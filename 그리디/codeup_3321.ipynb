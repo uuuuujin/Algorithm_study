{
 "metadata": {
  "language_info": {
   "codemirror_mode": {
    "name": "ipython",
    "version": 3
   },
   "file_extension": ".py",
   "mimetype": "text/x-python",
   "name": "python",
   "nbconvert_exporter": "python",
   "pygments_lexer": "ipython3",
   "version": "3.7.4-final"
  },
  "orig_nbformat": 2,
  "kernelspec": {
   "name": "python3",
   "display_name": "Python 3",
   "language": "python"
  }
 },
 "nbformat": 4,
 "nbformat_minor": 2,
 "cells": [
  {
   "source": [
    "# codeup_3321 : 최고의 피자\n",
    "\n",
    "vega 선생님은 Miss 피자 가게의 단골 손님이다.\n",
    "\n",
    "그는 이번 달부터 절약 생활을 시작했다.\n",
    "\n",
    "그래서 그는 피자 가게에서 주문할 수 있는 피자 중 1 달러 당 열량이 최대가 되는 피자를 주문하고 싶어한다.\n",
    "\n",
    "이러한 피자를 \"최고의 피자\"라고 부르기로 하자.\n",
    "\n",
    "\"최고의 피자\"는 1종류가 아니다.\n",
    "\n",
    "Miss 피자는 N 종류의 토핑에서 여러 종류를 자유롭게 선택하여, 도우 위에 올려 주문할 수있다.\n",
    "\n",
    "같은 토핑을 2 개 이상 올릴 수 없다.\n",
    "\n",
    "도우에 토핑을 하나도 하지 않은  피자도 주문할 수있다.\n",
    "\n",
    "도우의 가격은 A 달러이며, 토핑의 가격은 모두 B 달러이다.\n",
    "\n",
    "실제 피자 가격은 도우의 가격과 토핑 가격의 합계이다.\n",
    "\n",
    "즉, 토핑을 k 종류 (0 ≦ k ≦ N) 한 피자의 가격은 A + k × B 원이다.\n",
    "\n",
    "피자 전체의 칼로리는 도우 열량과 토핑 칼로리의 합계이다.\n",
    "\n",
    "도우의 가격과 토핑의 가격, 그리고 도우와 각 토핑 열량 값이 주어 졌을 때, \"최고의 피자\"의 1 달러 당 열량의 수를 구하는 프로그램을 작성하시오."
   ],
   "cell_type": "markdown",
   "metadata": {}
  },
  {
   "source": [
    "### 입력\n",
    "첫 번째 줄에는 토핑 종류 수를 나타내는 하나의 정수 N (1 ≦ N ≦ 100)이 입력된다.\n",
    "\n",
    "두 번째 줄에는 두 개의 정수 A, B (1 ≦ A ≦ 1000,1 ≦ B ≦ 1000)가 공백을 구분으로 입력된다. A는 도우의 가격, B는 토핑의 가격을 나타낸다.\n",
    "\n",
    "세 번째 줄에는 도우의 칼로리를 나타내는 정수 C (1 ≦ C ≦ 10000)가 입력된다.\n",
    "\n",
    "3 + i 행 (1 ≦ i ≦ N)는 i 번째의 토핑 칼로리 수를 나타내는 정수 Di (1 ≦ Di ≦ 10,000)가 입력된다."
   ],
   "cell_type": "markdown",
   "metadata": {}
  },
  {
   "source": [
    "## 내 풀이\n",
    "\n",
    "처음에 입력예시에 나왔던 값들을 가지고 나올 수 있는 모든 경우의 수를 생각했다.  \n",
    "그리고 당연히 풀 때도 모든 경우의 수를 구한 후 그 중 1달러당 열량이 가장 큰 경우를 찾으면 된다고 생각했는데   \n",
    "아무리 생각해도 이건 아닌거 같음... 토핑이 최대 100개까지 가능한데 그 경우의 수를 다 구한다? 이건 아니다...  \n",
    "\n",
    "써놨던 모든 경우의 수를 다시 보니까 우선 토핑 가격이 모두 동일하다는 게 눈에 보임.  \n",
    "그렇다는건 토핑을 하나 추가할 경우 열량이 가장 높은거 하나를 추가하는게 이득이고,  \n",
    "토핑을 두개 추가할 경우 열량이 가장 큰거 두개를 추가하는게 이득임!  \n",
    "\n",
    "입력예시) 토핑 3개 있다고 가정   \n",
    "도우가격 : $12      \n",
    "각 토핑 가격 : $2    \n",
    "도우칼로리 : 200   \n",
    "토핑칼로리 : 50, 300, 100    \n",
    "\n",
    "나올 수 있는 모든 경우의 수\n",
    "\n",
    "|도우|도우+a|도우+b|도우+c|도우+a+b|도우+a+c|도우+b+c|도우+a+b+c|\n",
    "|---|---|---|---|---|---|---|---|\n",
    "|$12|$14|$14|$14|$16|$16|$16|$18|\n",
    "|200|250|500|300|550|350|600|650|\n",
    "\n",
    "--> 토핑 하나 추가할 때는 칼로리가 가장 높은 토핑b를, 토핑 두 개 추가할 때는 토핑 b,c추가하는게 제일 이득\n",
    "\n",
    "**결론) 토핑 칼로리를 내림차순으로 정렬해서 0개, 1개, ... , n개 추가할 때의 가격과 칼로리 계산** "
   ],
   "cell_type": "markdown",
   "metadata": {}
  },
  {
   "cell_type": "code",
   "execution_count": 1,
   "metadata": {},
   "outputs": [
    {
     "output_type": "stream",
     "name": "stdout",
     "text": [
      "3 12 2 200 [50, 300, 100]\n"
     ]
    }
   ],
   "source": [
    "n = int(input()) #토핑 종류 수\n",
    "a, b = map(int, input().split()) #a:도우의 가격, b:토핑의가격\n",
    "c = int(input()) #도우의 칼로리\n",
    "\n",
    "d = [] #토핑 칼로리\n",
    "for _ in range(n):\n",
    "    kcal = int(input())\n",
    "    d.append(kcal)\n",
    "\n",
    "print(n, a, b, c, d)\n"
   ]
  },
  {
   "cell_type": "code",
   "execution_count": 30,
   "metadata": {},
   "outputs": [
    {
     "output_type": "stream",
     "name": "stdout",
     "text": [
      "37\n"
     ]
    }
   ],
   "source": [
    "n = int(input()) #토핑 종류 수\n",
    "a, b = map(int, input().split()) #a:도우의 가격, b:토핑의가격\n",
    "c = int(input()) #도우의 칼로리\n",
    "\n",
    "d = [] #토핑 칼로리\n",
    "for _ in range(n):\n",
    "    topping = int(input())\n",
    "    d.append(topping)\n",
    "\n",
    "d = sorted(d, reverse=True)\n",
    "cost = [a] #도우의 가격은 미리 넣어놓음\n",
    "kcal = [c] #도우의 칼로리는 미리 넣어놓음\n",
    "\n",
    "\n",
    "for i in range(1,len(d)+1):\n",
    "    cost.append(a + i*b)\n",
    "    kcal.append(c + sum(d[0:i]))\n",
    "    \n",
    "\n",
    "best_kcal = []\n",
    "for i in range(len(cost)):\n",
    "    best_kcal.append(int(kcal[i]/cost[i]))\n",
    "\n",
    "print(max(best_kcal))"
   ]
  }
 ]
}