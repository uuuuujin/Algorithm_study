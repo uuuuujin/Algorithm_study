{
 "metadata": {
  "language_info": {
   "codemirror_mode": {
    "name": "ipython",
    "version": 3
   },
   "file_extension": ".py",
   "mimetype": "text/x-python",
   "name": "python",
   "nbconvert_exporter": "python",
   "pygments_lexer": "ipython3",
   "version": "3.7.4-final"
  },
  "orig_nbformat": 2,
  "kernelspec": {
   "name": "python3",
   "display_name": "Python 3",
   "language": "python"
  }
 },
 "nbformat": 4,
 "nbformat_minor": 2,
 "cells": [
  {
   "source": [
    "# 기출3 - 문자열 뒤집기\n",
    "\n",
    "0과 1로된 문자열의 숫자를 모두 같게 만들려고 한다. 할 수 있는 행동은 연속된 하나 이상의 숫자를 잡고 모두 뒤집는 것.  \n",
    "문자열이 주어졌을 때 해야 하는 최소 행동 횟수는??"
   ],
   "cell_type": "markdown",
   "metadata": {}
  },
  {
   "source": [
    "## 내 풀이\n",
    "\n",
    "몇 개 넣어서 테스틑 해보니까 답은 맞는거 같은데 이런식으로 풀어도 되는건지는 모르겠다 ㅋㅋㅋㅋㅋ  \n",
    "문자열을 몇 개 만든 후에 직접 수를 뒤집어 봤는데 중점은 0이나 1이 얼마나 연속되어 있는지가 아닌 '다른 숫자로 몇 번 바뀌는지' 이것 인 거 같았다.  \n",
    "그래서 숫자가 바뀌는 부분을 중점적으로 봤는데 0001100 여기서는 0->1, 1->0 이렇게 한 번씩만 바뀜.     \n",
    "이렇게 0->1로, 1->0으로 바뀌는 횟수가 같을 경우 그 횟수가 답이 된다.  \n",
    "또 다른 예로는 1100101 이 있는데 0->1로 두번, 1->0으로 두번 바뀌어서 답이 2다.  \n",
    "\n",
    "하지만 100110처럼 0->1로 한 번, 1->0으로 두 번 바뀌어서 횟수가 다른 경우가 있는데 이 때는 두 횟수 중 큰 게 답이다.  \n",
    "또 다른 예로는 0101001101 이 있는데 0->1로 4번, 1->0으로 3번 바뀌어서 답이 4다. "
   ],
   "cell_type": "markdown",
   "metadata": {}
  },
  {
   "cell_type": "code",
   "execution_count": 10,
   "metadata": {},
   "outputs": [
    {
     "output_type": "stream",
     "name": "stdout",
     "text": [
      "2\n"
     ]
    }
   ],
   "source": [
    "s = input()\n",
    "\n",
    "one_zero = 0  #문자열 중에 01 카운트\n",
    "zero_one = 0  #문자열 중에 10 카운트\n",
    "\n",
    "for i in range(len(s)):\n",
    "    if s[i:i+2] == '01':\n",
    "        zero_one += 1\n",
    "    elif s[i:i+2] == '10':\n",
    "        one_zero +=1\n",
    "\n",
    "print(max(one_zero, zero_one))"
   ]
  },
  {
   "source": [
    "## 해설\n",
    "\n",
    "해설에서는 그리디문제답게 전부 0으로 바꾸는 경우과 전부 1로 바꾸는 경우 중에서 더 적은 횟수를 가지는 경우를 계산하는 식으로 되어있다.  \n",
    "전체 리스트의 원소를 앞에서부터 하나씩 확인하며, 0에서 1로 변경하거나 1에서 0으로 변경하는 경우를 확인하는 방식으로 해결.  \n",
    "(결국 내가 한거랑 논리는 비슷한 듯... 의미한거는 좀 다르지만)  \n"
   ],
   "cell_type": "markdown",
   "metadata": {}
  },
  {
   "cell_type": "code",
   "execution_count": 11,
   "metadata": {},
   "outputs": [
    {
     "output_type": "stream",
     "name": "stdout",
     "text": [
      "1\n"
     ]
    }
   ],
   "source": [
    "data = input()\n",
    "count0 = 0 #전부 0으로 바꾸는 경우\n",
    "count1 = 0 #전부 1로 바꾸는 경우\n",
    "\n",
    "if data[0] == '1':\n",
    "    count0 += 1\n",
    "else:\n",
    "    count1 += 1\n",
    "\n",
    "#두 번째 원소부터 모든 원소를 확인하며\n",
    "for i in range(len(data)-1):\n",
    "    if data[i] != data[i+1]:\n",
    "        #다음 수에서 1로 바뀌는 경우\n",
    "        if data[i+1] == '1':\n",
    "            count0 += 1\n",
    "        #다음 수에서 0으로 바뀌는 경우\n",
    "        else:\n",
    "            count1 +=1\n",
    "\n",
    "print(min(count0, count1))"
   ]
  }
 ]
}