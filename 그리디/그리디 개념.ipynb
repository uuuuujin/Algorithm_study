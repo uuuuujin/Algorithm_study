{
 "metadata": {
  "language_info": {
   "codemirror_mode": {
    "name": "ipython",
    "version": 3
   },
   "file_extension": ".py",
   "mimetype": "text/x-python",
   "name": "python",
   "nbconvert_exporter": "python",
   "pygments_lexer": "ipython3",
   "version": "3.7.4-final"
  },
  "orig_nbformat": 2,
  "kernelspec": {
   "name": "python3",
   "display_name": "Python 3",
   "language": "python"
  }
 },
 "nbformat": 4,
 "nbformat_minor": 2,
 "cells": [
  {
   "source": [
    "# 그리디\n",
    "\n",
    "- 그리디는 어떠한 문제가 있을 때 단순 무식하게, 탐욕적으로 문제를 푸는 알고리즘.\n",
    "- 탐욕적 : 현재 상황에서 지금 당장 좋은 것만 고르는 방법.\n",
    "- 그리디 알고리즘을 사용하면 매 순간 가장 좋아 보이는 것을 선택하며, 현재의 선택이 나중에 미칠 영향에 대해서는 고려하지 않음.\n",
    "- 기준에 따라 좋은 것을 선택하는 알고리즘이므로 문제에서 **'가장 큰 순서대로', '가장 작은 순서대로'** 와 같은 기준을 알게 모르게 제시해 줌.\n",
    "- 정렬 알고리즘과 자주 짝을 이뤄 출제 됨."
   ],
   "cell_type": "markdown",
   "metadata": {}
  },
  {
   "source": [
    "## 예제 3-1) 거스름돈\n",
    "\n",
    "**<문제>**  \n",
    "카운터에 거스름돈으로 사용할 500원, 100원, 50원, 10원짜리 동전이 무한히 존재한다고 가정. 손님에게 거슬러 줘야 할 돈이 N원일 때 거슬러줘야 할 동전의 최소 개수를 구하라. 단, 거슬러 줘야 할 돈 N은 항상 10의 배수이다.\n",
    "\n",
    "**<해설>**  \n",
    "'가장 큰 화폐 단위부터'돈을 거슬러 준다."
   ],
   "cell_type": "markdown",
   "metadata": {}
  },
  {
   "cell_type": "code",
   "execution_count": 1,
   "metadata": {},
   "outputs": [
    {
     "output_type": "stream",
     "name": "stdout",
     "text": [
      "6\n"
     ]
    }
   ],
   "source": [
    "n = 1260 # 거슬러줘야 할 금액이 1260원\n",
    "count = 0\n",
    "\n",
    "#큰 단위의 화폐부터 차례대로 확인\n",
    "coin_types = [500, 100, 50, 10]\n",
    "\n",
    "for coin in coin_types:\n",
    "    count += n // coin #해당 화폐로 거슬러 줄 수 있는 동전의 개수 세기\n",
    "    n %= coin  # 나머지 값을 다시 n으로 할당\n",
    "    \n",
    "print(count)"
   ]
  },
  {
   "source": [
    "화폐의 종류만큼 반복을 수행해야 하므로 화폐의 종류가 K개라고 할 때 소스코드의 시간 복잡도는 **O(K)** 이다.   \n",
    "--> 동전의 총 종류에만 영향을 받고, 거슬러 줘야 하는 금액의 크기와는 무관"
   ],
   "cell_type": "markdown",
   "metadata": {}
  },
  {
   "source": [
    "### 그리디 알고리즘의 정당성\n",
    "- 그리디 알고리즘으로 문제의 해법을 찾았을 때는 그 해법이 정당한지 검토해야 한다.\n",
    "- 거스름돈 문제를 그리디 알고리즘으로 해결할 수 있는 이유는 가지고 있는 동전 중에서 큰 단위가 항상 작은 단위의 배수이므로, 작은 단위의 동전들을 종합해 다른 해가 나올 수 없기 때문이다."
   ],
   "cell_type": "markdown",
   "metadata": {}
  },
  {
   "source": [],
   "cell_type": "markdown",
   "metadata": {}
  }
 ]
}