{
 "metadata": {
  "language_info": {
   "codemirror_mode": {
    "name": "ipython",
    "version": 3
   },
   "file_extension": ".py",
   "mimetype": "text/x-python",
   "name": "python",
   "nbconvert_exporter": "python",
   "pygments_lexer": "ipython3",
   "version": "3.7.4-final"
  },
  "orig_nbformat": 2,
  "kernelspec": {
   "name": "python3",
   "display_name": "Python 3",
   "language": "python"
  }
 },
 "nbformat": 4,
 "nbformat_minor": 2,
 "cells": [
  {
   "source": [
    "# codeup_4040 : 펜션\n",
    "\n",
    "부산과 거제도를 잇는 거가대교가 개통된 이래로 거제도에는 많은 피서객들이 방문한다. 거제도 펜션 예약 담당자의 업무는 고객이 요구하는 일정에 맞추어 방을 예약해 주는 것이다. 여름 성수기 동안은 고객이 요청한 일정 내내 같은 방을 예약해 줄 수 없는 경우가 많다. 그런 경우 여러 방을 옮겨 지낼 수 있는 방법을 찾아서 고객에게 제시해 주는데, 가능한 방을 옮기는 횟수가 최소가 되도록 해 주어야 한다. 고객은 항상 정오 이후에 펜션에 도착하여 정오 이전에 떠나야 한다.\n",
    "\n",
    " \n",
    "\n",
    "현재 펜션의 예약 상태와 고객의 일정이 주어질 때, 펜션 직원의 업무를 도와줄 수 있는 프로그램을 작성하시오."
   ],
   "cell_type": "markdown",
   "metadata": {}
  },
  {
   "source": [
    "1. 첫째 줄에 두 개의 정수 n과 m이 주어진다. n은 펜션에서 관리하는 여름 성수기 총 기간을 나타내고, m은 펜션이 보유하고 있는 방의 개수이다(1≤n≤100, 3≤m≤30). 편의상 성수기 기간을 1일부터 n일까지로 표시하고, 펜션의 방을 1부터 m까지의 번호로 구분한다.\n",
    "\n",
    "2. 그 다음 n개의 줄에는 각 줄마다 길이가 m인 문자열이 주어진다. 입력에서 i+1 번째 줄의 j-번째 문자는 여름 성수기 기간 중 i-번째 날에 방 번호가 j인 방의 예약 상태를 나타낸다(1≤i≤n, 1≤j≤m). 이 문자는 방이 이미 예약된 경우에는 'X', 그렇지 않으면 'O'이다. k-번째 날을 예약하면 그 다음 날 정오까지 방을 사용할 수 있다는 것을 의미한다.\n",
    "\n",
    "3. 마지막 줄에는 고객의 일정을 나타내는 두 개의 정수 s, t가 주어진다, s는 펜션에 도착하는 날이고 t는 펜션을 떠나는 날이다(1≤s<t≤n+1)."
   ],
   "cell_type": "markdown",
   "metadata": {}
  },
  {
   "source": [
    "## 내 풀이\n",
    "\n",
    "3일을 고민하다가 해결해서 너무 뿌듯하다 ㅜㅜ  \n",
    "이 문제 역시 그리디라서 **지금 당장 오래 묵을 수 있는 방** 을 선택하는 게 제일 중요한 포인트인 것 같다.\n",
    "\n",
    "문제에서는 nXm의 행렬(기간X방 개수))을 입력값으로 받는데 이렇게 하면 나중에 각 방별로 묵을 수 있는 최대 기간을 구할 때  \n",
    "번거로워서 치환을 했다. (mXn))"
   ],
   "cell_type": "markdown",
   "metadata": {}
  },
  {
   "cell_type": "code",
   "execution_count": 59,
   "metadata": {
    "tags": []
   },
   "outputs": [],
   "source": [
    "n, m = map(int, input().split())    # n:성수기 기간, m : 방 개수\n",
    "room_reservation = []               #방 예약 상황\n",
    "for _ in range(n):\n",
    "    room_reservation.append(input())\n",
    "s, t = map(int, input().split())    #s : 손님이 펜션에 도착하는 날, t : 펜션을 떠나는 날\n",
    "\n",
    "room_transposed = [list(x) for x in zip(*room_reservation)]\n",
    "room_change = []"
   ]
  },
  {
   "cell_type": "code",
   "execution_count": 60,
   "metadata": {},
   "outputs": [
    {
     "output_type": "stream",
     "name": "stdout",
     "text": [
      "1\n"
     ]
    }
   ],
   "source": [
    "# 방 고르기\n",
    "day=0\n",
    "while day<(t-s): \n",
    "    possible_room = [] #현재 숙박가능한 방 넘버\n",
    "    for i in range(m):\n",
    "        if room_reservation[s-1+day][i] == \"O\":\n",
    "            possible_room.append(i)\n",
    "    \n",
    "    if not possible_room:\n",
    "        print(\"-1\")\n",
    "        break\n",
    "\n",
    "    available = [0 for _ in range(m)] #각 방 별로 연달아 숙박 가능한 일 수 \n",
    "\n",
    "    for i in possible_room:\n",
    "        for j in range(s-1+day, t-1):\n",
    "            if room_transposed[i][j] == \"O\":\n",
    "                available[i] +=1\n",
    "            else:\n",
    "                break\n",
    "    \n",
    "    now_room = available.index(max(available))\n",
    "    room_change.append(now_room)\n",
    "    day += max(available)\n",
    "\n",
    "    if day == (t-s):\n",
    "        print(len(room_change)-1)\n",
    "        break"
   ]
  },
  {
   "source": [
    "### list에서 최대값과 최소값의 index찾는 방법  \n",
    "lst.index(max(lst))  \n",
    "lst.index(min(lst))  "
   ],
   "cell_type": "markdown",
   "metadata": {}
  },
  {
   "cell_type": "code",
   "execution_count": 61,
   "metadata": {},
   "outputs": [],
   "source": [
    "# 리스트 전치\n",
    "aaa = [[1,2,3],[2,3,1]]   \n",
    "bbb = [list(x) for x in zip(*aaa)]   \n",
    "ccc = list(map(list, zip(*aaa)))"
   ]
  }
 ]
}