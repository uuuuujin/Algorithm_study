{
 "metadata": {
  "language_info": {
   "codemirror_mode": {
    "name": "ipython",
    "version": 3
   },
   "file_extension": ".py",
   "mimetype": "text/x-python",
   "name": "python",
   "nbconvert_exporter": "python",
   "pygments_lexer": "ipython3",
   "version": "3.7.4-final"
  },
  "orig_nbformat": 2,
  "kernelspec": {
   "name": "python3",
   "display_name": "Python 3",
   "language": "python"
  }
 },
 "nbformat": 4,
 "nbformat_minor": 2,
 "cells": [
  {
   "source": [
    "# 이상한 출석 번호 부르기2"
   ],
   "cell_type": "markdown",
   "metadata": {}
  },
  {
   "source": [
    "### 내 풀이"
   ],
   "cell_type": "markdown",
   "metadata": {}
  },
  {
   "cell_type": "code",
   "execution_count": 10,
   "metadata": {},
   "outputs": [
    {
     "output_type": "stream",
     "name": "stdout",
     "text": [
      "5 8 9 7 6 6 3 2 4 10 "
     ]
    }
   ],
   "source": [
    "n = int(input())\n",
    "c = input().split()\n",
    "\n",
    "i = n-1\n",
    "while i>=0:\n",
    "    print(c[i], end=' ')\n",
    "    i -= 1"
   ]
  },
  {
   "source": [
    "### 모범 답안"
   ],
   "cell_type": "markdown",
   "metadata": {}
  },
  {
   "cell_type": "code",
   "execution_count": 7,
   "metadata": {},
   "outputs": [
    {
     "output_type": "execute_result",
     "data": {
      "text/plain": [
       "[3, 2, 1]"
      ]
     },
     "metadata": {},
     "execution_count": 7
    }
   ],
   "source": [
    "arr=[]\n",
    " \n",
    "a=input()\n",
    "b=input().split()\n",
    " \n",
    "n=int(a)\n",
    "for i in range(n) :\n",
    "    arr.append(int(b[i]))\n",
    " \n",
    "i=n-1\n",
    "while i>=0 :\n",
    "    print(arr[i], end=' ')\n",
    "    i-=1"
   ]
  }
 ]
}