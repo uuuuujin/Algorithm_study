{
 "metadata": {
  "language_info": {
   "codemirror_mode": {
    "name": "ipython",
    "version": 3
   },
   "file_extension": ".py",
   "mimetype": "text/x-python",
   "name": "python",
   "nbconvert_exporter": "python",
   "pygments_lexer": "ipython3",
   "version": "3.7.4-final"
  },
  "orig_nbformat": 2,
  "kernelspec": {
   "name": "python3",
   "display_name": "Python 3",
   "language": "python"
  }
 },
 "nbformat": 4,
 "nbformat_minor": 2,
 "cells": [
  {
   "source": [
    "# 수 나열하기\n",
    "\n",
    "a 부터 시작하여 이전에 만든 수에 m을 곱하고 d를 더해 다음 수를 만드는 수열"
   ],
   "cell_type": "markdown",
   "metadata": {}
  },
  {
   "cell_type": "code",
   "execution_count": 1,
   "metadata": {},
   "outputs": [
    {
     "output_type": "stream",
     "name": "stdout",
     "text": [
      "-85\n"
     ]
    }
   ],
   "source": [
    "# 시작값(a), 곱할 값(m), 더할 값(d), 몇 번쨰인지를 나타내는 정수(n)\n",
    "\n",
    "a,m,d,n = input().split(\" \")\n",
    "a = int(a)\n",
    "m = int(m)\n",
    "d = int(d)\n",
    "n = int(n)\n",
    "\n",
    "for i in range(1,n):\n",
    "    a = a*m+d\n",
    "print(a)"
   ]
  }
 ]
}