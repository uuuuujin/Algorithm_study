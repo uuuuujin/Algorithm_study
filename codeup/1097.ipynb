{
 "metadata": {
  "language_info": {
   "codemirror_mode": {
    "name": "ipython",
    "version": 3
   },
   "file_extension": ".py",
   "mimetype": "text/x-python",
   "name": "python",
   "nbconvert_exporter": "python",
   "pygments_lexer": "ipython3",
   "version": "3.7.4-final"
  },
  "orig_nbformat": 2,
  "kernelspec": {
   "name": "python3",
   "display_name": "Python 3",
   "language": "python"
  }
 },
 "nbformat": 4,
 "nbformat_minor": 2,
 "cells": [
  {
   "source": [
    "# 바둑알 십자 뒤집기"
   ],
   "cell_type": "markdown",
   "metadata": {}
  },
  {
   "cell_type": "code",
   "execution_count": null,
   "metadata": {},
   "outputs": [],
   "source": [
    "lst = []\n",
    "\n",
    "for _ in range(19):\n",
    "    lst.append(list(map(int,input().split())))\n",
    "\n",
    "n = int(input())\n",
    "\n",
    "for _ in range(n):\n",
    "    x, y = input().split()\n",
    "    x, y = int(x)-1, int(y)-1 #x, y = map(int, input().split())\n",
    "\n",
    "    for i in range(19):\n",
    "        if lst[x][i] == 0:\n",
    "            lst[x][i] = 1\n",
    "        else:\n",
    "            lst[x][i] = 0\n",
    "        \n",
    "        if lst[i][y] == 0:\n",
    "            lst[i][y] = 1\n",
    "        else:\n",
    "            lst[i][y] = 0\n",
    "\n",
    "for i in lst:\n",
    "    print(*i)\n",
    "\n",
    "\n",
    "# 아직 map활용을 잘 못하는 거 같다"
   ]
  }
 ]
}