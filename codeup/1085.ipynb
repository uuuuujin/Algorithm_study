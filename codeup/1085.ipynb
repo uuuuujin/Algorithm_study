{
 "metadata": {
  "language_info": {
   "codemirror_mode": {
    "name": "ipython",
    "version": 3
   },
   "file_extension": ".py",
   "mimetype": "text/x-python",
   "name": "python",
   "nbconvert_exporter": "python",
   "pygments_lexer": "ipython3",
   "version": "3.7.4-final"
  },
  "orig_nbformat": 2,
  "kernelspec": {
   "name": "python3",
   "display_name": "Python 3",
   "language": "python"
  }
 },
 "nbformat": 4,
 "nbformat_minor": 2,
 "cells": [
  {
   "source": [
    "# 소리 파일 저장용량 계산하기"
   ],
   "cell_type": "markdown",
   "metadata": {}
  },
  {
   "source": [
    "### 풀이1\n",
    "정말 직관적이고 생각나는대로 풀음"
   ],
   "cell_type": "markdown",
   "metadata": {}
  },
  {
   "cell_type": "code",
   "execution_count": 1,
   "metadata": {},
   "outputs": [
    {
     "output_type": "stream",
     "name": "stdout",
     "text": [
      "1.7 MB\n"
     ]
    }
   ],
   "source": [
    "sound = input().split(\" \")\n",
    "sound = [int(i) for i in sound]\n",
    "stroage_space = (sound[0] * sound[1] * sound[2] * sound[3])/(2**23)\n",
    "stroage_space = round(stroage_space, 1)\n",
    "print(stroage_space , \"MB\")"
   ]
  },
  {
   "source": [
    "### 풀이2\n",
    "리스트 안에 있는 값들 한번에 곱하는 함수 있을거 같아서 찾아봄 --> np.prod"
   ],
   "cell_type": "markdown",
   "metadata": {}
  },
  {
   "cell_type": "code",
   "execution_count": 2,
   "metadata": {},
   "outputs": [],
   "source": [
    "import numpy as np"
   ]
  },
  {
   "cell_type": "code",
   "execution_count": 3,
   "metadata": {},
   "outputs": [
    {
     "output_type": "stream",
     "name": "stdout",
     "text": [
      "1.7 MB\n"
     ]
    }
   ],
   "source": [
    "sound = input().split(\" \")\n",
    "sound = [int(i) for i in sound]\n",
    "stroage_space = np.prod(sound)/(2**23)\n",
    "stroage_space = round(stroage_space, 1)\n",
    "print(stroage_space , \"MB\")"
   ]
  },
  {
   "source": [
    "### 풀이3\n",
    "풀이보고 이마 쳤다...  \n",
    "출력포맷 이럴 때 써먹어야징  \n",
    "(풀이랑은 다른 포맷 사용)"
   ],
   "cell_type": "markdown",
   "metadata": {}
  },
  {
   "cell_type": "code",
   "execution_count": 4,
   "metadata": {},
   "outputs": [
    {
     "output_type": "stream",
     "name": "stdout",
     "text": [
      "1.7 MB\n"
     ]
    }
   ],
   "source": [
    "sound = input().split(\" \")\n",
    "sound = [int(i) for i in sound]\n",
    "\n",
    "print(\"{:.1f} MB\".format(np.prod(sound)/(2**23)))"
   ]
  }
 ]
}