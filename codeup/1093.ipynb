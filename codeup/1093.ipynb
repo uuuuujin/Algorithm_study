{
 "metadata": {
  "language_info": {
   "codemirror_mode": {
    "name": "ipython",
    "version": 3
   },
   "file_extension": ".py",
   "mimetype": "text/x-python",
   "name": "python",
   "nbconvert_exporter": "python",
   "pygments_lexer": "ipython3",
   "version": "3.7.4-final"
  },
  "orig_nbformat": 2,
  "kernelspec": {
   "name": "python3",
   "display_name": "Python 3",
   "language": "python"
  }
 },
 "nbformat": 4,
 "nbformat_minor": 2,
 "cells": [
  {
   "source": [
    "# 이상한 출석 부르기 1\n",
    "이상한 출석 부르기 1\n",
    "출석 번호를 n번 무작위로 불렀을 때, 각 번호 (1~23)가 불린 횟수 출력"
   ],
   "cell_type": "markdown",
   "metadata": {}
  },
  {
   "source": [
    "### 내 풀이"
   ],
   "cell_type": "markdown",
   "metadata": {}
  },
  {
   "cell_type": "code",
   "execution_count": 3,
   "metadata": {},
   "outputs": [],
   "source": [
    "import numpy as np"
   ]
  },
  {
   "cell_type": "code",
   "execution_count": 16,
   "metadata": {},
   "outputs": [
    {
     "output_type": "stream",
     "name": "stdout",
     "text": [
      "1 2 1 1 2 1 1 0 1 0 0 0 0 0 0 0 0 0 0 0 0 0 0 "
     ]
    }
   ],
   "source": [
    "n = int(input())\n",
    "c = input().split()\n",
    "c = [int(i) for i in c]\n",
    "\n",
    "number_list = list(np.zeros(23))\n",
    "\n",
    "for i in c:\n",
    "    for j in range(1,24):\n",
    "        if i == j:\n",
    "            number_list[j-1] +=1\n",
    "\n",
    "for i in number_list:\n",
    "    print(int(i), end=' ')\n"
   ]
  },
  {
   "source": [
    "### 모범답안"
   ],
   "cell_type": "markdown",
   "metadata": {}
  },
  {
   "cell_type": "code",
   "execution_count": null,
   "metadata": {},
   "outputs": [],
   "source": [
    "a=input()\n",
    "b=input().split()\n",
    "\n",
    "n=int(a)\n",
    "arr=[]\n",
    "for i in range(24) :\n",
    "    arr.append(0)\n",
    "for i in range(n) :\n",
    "    arr[int(b[i])]+=1    \n",
    "    \n",
    "for i in range(1, 24) :\n",
    "    print(arr[i], end=' ')\n",
    "\n"
   ]
  }
 ]
}