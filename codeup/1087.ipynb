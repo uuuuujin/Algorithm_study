{
 "metadata": {
  "language_info": {
   "codemirror_mode": {
    "name": "ipython",
    "version": 3
   },
   "file_extension": ".py",
   "mimetype": "text/x-python",
   "name": "python",
   "nbconvert_exporter": "python",
   "pygments_lexer": "ipython3",
   "version": "3.7.4-final"
  },
  "orig_nbformat": 2,
  "kernelspec": {
   "name": "python3",
   "display_name": "Python 3",
   "language": "python"
  }
 },
 "nbformat": 4,
 "nbformat_minor": 2,
 "cells": [
  {
   "source": [
    "# 1부터 1씩 더해지다가 입력한 숫자보다 커지면 그 때까지 더해진 숫자 값 출력"
   ],
   "cell_type": "markdown",
   "metadata": {}
  },
  {
   "source": [
    "### 풀이1"
   ],
   "cell_type": "markdown",
   "metadata": {}
  },
  {
   "cell_type": "code",
   "execution_count": 1,
   "metadata": {},
   "outputs": [
    {
     "output_type": "stream",
     "name": "stdout",
     "text": [
      "66\n"
     ]
    }
   ],
   "source": [
    "number = int(input())\n",
    "total_number = 0\n",
    "i = 0\n",
    "\n",
    "while (True):\n",
    "    i += 1\n",
    "    total_number += i\n",
    "    if (total_number==number) or (total_number > number):\n",
    "        print(total_number)\n",
    "        break\n"
   ]
  },
  {
   "source": [
    "### 풀이2"
   ],
   "cell_type": "markdown",
   "metadata": {}
  },
  {
   "cell_type": "code",
   "execution_count": 2,
   "metadata": {},
   "outputs": [
    {
     "output_type": "stream",
     "name": "stdout",
     "text": [
      "66\n"
     ]
    }
   ],
   "source": [
    "number = int(input())\n",
    "total_number = 0\n",
    "i = 0\n",
    "\n",
    "while total_number < number:\n",
    "    i += 1\n",
    "    total_number += i\n",
    "\n",
    "print(total_number)"
   ]
  }
 ]
}