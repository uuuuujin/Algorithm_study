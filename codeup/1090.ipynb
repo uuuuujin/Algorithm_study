{
 "metadata": {
  "language_info": {
   "codemirror_mode": {
    "name": "ipython",
    "version": 3
   },
   "file_extension": ".py",
   "mimetype": "text/x-python",
   "name": "python",
   "nbconvert_exporter": "python",
   "pygments_lexer": "ipython3",
   "version": "3.7.4-final"
  },
  "orig_nbformat": 2,
  "kernelspec": {
   "name": "python3",
   "display_name": "Python 3",
   "language": "python"
  }
 },
 "nbformat": 4,
 "nbformat_minor": 2,
 "cells": [
  {
   "source": [
    "# 등비수열에서 n번째에 나오는 수 구하기"
   ],
   "cell_type": "markdown",
   "metadata": {}
  },
  {
   "cell_type": "code",
   "execution_count": 4,
   "metadata": {},
   "outputs": [
    {
     "output_type": "stream",
     "name": "stdout",
     "text": [
      "1458\n"
     ]
    }
   ],
   "source": [
    "#시작값(a), 등비(r)), 몇 번째인지를 나타내는 정수(n) 입력됨\n",
    "\n",
    "a,r,n = input().split(\" \")\n",
    "a = int(a)\n",
    "r = int(r)\n",
    "n = int(n)\n",
    "\n",
    "print(a*(r**(n-1)))"
   ]
  }
 ]
}