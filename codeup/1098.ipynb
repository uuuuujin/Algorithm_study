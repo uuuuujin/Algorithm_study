{
 "metadata": {
  "language_info": {
   "codemirror_mode": {
    "name": "ipython",
    "version": 3
   },
   "file_extension": ".py",
   "mimetype": "text/x-python",
   "name": "python",
   "nbconvert_exporter": "python",
   "pygments_lexer": "ipython3",
   "version": "3.7.4-final"
  },
  "orig_nbformat": 2,
  "kernelspec": {
   "name": "python3",
   "display_name": "Python 3",
   "language": "python"
  }
 },
 "nbformat": 4,
 "nbformat_minor": 2,
 "cells": [
  {
   "source": [
    "# 설탕과자 뽑기\n",
    "\n",
    "- 첫 줄 : 격자판의 세로, 가로 입력 (h, w)\n",
    "- 두 번째 줄 : 놓을 수 있는 막대 개수 (n)\n",
    "- 세 번째 줄 : 막대의 길이, 방향, 좌표 (l, d, x, y)"
   ],
   "cell_type": "markdown",
   "metadata": {}
  },
  {
   "cell_type": "code",
   "execution_count": null,
   "metadata": {},
   "outputs": [],
   "source": [
    "h, w = map(int, input().split())\n",
    "board = [[0 for i in range(w)] for j in range(h)]\n",
    "\n",
    "n = int(input())\n",
    "\n",
    "for i in range(n):\n",
    "    l,d,x,y = map(int, input().split())\n",
    "    for j in range(l):\n",
    "        if d == 0: #막대기 가로로 놓기\n",
    "            board[x-1][y-1+j] = 1\n",
    "        elif d== 1: #막대기 세로로 놓기\n",
    "            board[x-1+j][y-1] = 1\n",
    "\n",
    "\n",
    "for b in board:\n",
    "    print(*b)"
   ]
  }
 ]
}