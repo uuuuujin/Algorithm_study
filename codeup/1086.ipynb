{
 "metadata": {
  "language_info": {
   "codemirror_mode": {
    "name": "ipython",
    "version": 3
   },
   "file_extension": ".py",
   "mimetype": "text/x-python",
   "name": "python",
   "nbconvert_exporter": "python",
   "pygments_lexer": "ipython3",
   "version": "3.7.4-final"
  },
  "orig_nbformat": 2,
  "kernelspec": {
   "name": "python3",
   "display_name": "Python 3",
   "language": "python"
  }
 },
 "nbformat": 4,
 "nbformat_minor": 2,
 "cells": [
  {
   "source": [
    "# 그림 파일 저장용량 계산하기"
   ],
   "cell_type": "markdown",
   "metadata": {}
  },
  {
   "cell_type": "code",
   "execution_count": 2,
   "metadata": {},
   "outputs": [
    {
     "output_type": "stream",
     "name": "stdout",
     "text": [
      "2.25 MB\n"
     ]
    }
   ],
   "source": [
    "color = input().split(\" \")\n",
    "color = [int(i) for i in color]\n",
    "total_bit = color[0]+color[1]+color[2]\n",
    "\n",
    "print(\"{:.2f} MB\".format((1024*768*total_bit)/(2**23)))"
   ]
  }
 ]
}