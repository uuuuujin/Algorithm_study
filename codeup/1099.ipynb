{
 "metadata": {
  "language_info": {
   "codemirror_mode": {
    "name": "ipython",
    "version": 3
   },
   "file_extension": ".py",
   "mimetype": "text/x-python",
   "name": "python",
   "nbconvert_exporter": "python",
   "pygments_lexer": "ipython3",
   "version": "3.7.4-final"
  },
  "orig_nbformat": 2,
  "kernelspec": {
   "name": "python3",
   "display_name": "Python 3",
   "language": "python"
  }
 },
 "nbformat": 4,
 "nbformat_minor": 2,
 "cells": [
  {
   "source": [
    "# 성실한 개미\n",
    "- 개미는 오른쪽으로 움직이다가 벽을 만나면 아래로 움직임\n",
    "- 오른쪽에 길이 나타나면 다시 오른쪽으로 움직임\n",
    "- 맨 오르쪽 아래에 도착하거나, 먹이를 찾거나, 더 이상 움직일 수 없을 때까지 움직임\n",
    "\n",
    "\n",
    "- 0 : 갈수 있는 곳\n",
    "- 1 : 벽\n",
    "- 2 : 먹이\n",
    "\n",
    "\n",
    "\n",
    "- 개미집이 (2,2)에 존재해서 (2,2)에서 출발해야함\n",
    "- 개미가 이동한 경로는 9로 표시\n"
   ],
   "cell_type": "markdown",
   "metadata": {}
  },
  {
   "cell_type": "code",
   "execution_count": null,
   "metadata": {},
   "outputs": [],
   "source": [
    "board = []\n",
    "for _ in range(10):\n",
    "    board.append(list(map(int,input().split())))\n",
    "\n",
    "x, y = 1, 1\n",
    "\n",
    "\n",
    "while (True):\n",
    "    if board[x][y] == 2: #먹이 도착\n",
    "        board[x][y] = 9\n",
    "        break\n",
    "    elif board[x][y+1] == 1 : #오른쪽 막힘\n",
    "        if board[x+1][y] == 1: #아래쪽도 막힘\n",
    "            board[x][y] =9\n",
    "            break #오른쪽, 왼쪽 둘 다 막혔으니 멈춤\n",
    "        elif (board[x+1][y] == 0) or (board[x+1][y]==2):\n",
    "            board[x][y] = 9\n",
    "            x += 1\n",
    "    elif (x==8) and (y==8): #제일 오른쪽, 밑에 도착\n",
    "        board[x][y] = 9\n",
    "        break\n",
    "    elif (board[x][y+1] == 0) or (board[x][y+1]==2):\n",
    "        board[x][y] = 9\n",
    "        y += 1\n",
    "\n",
    "\n",
    "for b in board:\n",
    "    print(*b)"
   ]
  }
 ]
}